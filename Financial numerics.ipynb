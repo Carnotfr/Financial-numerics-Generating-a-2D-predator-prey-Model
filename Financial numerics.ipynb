{
 "cells": [
  {
   "cell_type": "code",
   "execution_count": 1,
   "id": "45c008b7",
   "metadata": {},
   "outputs": [],
   "source": [
    "import numpy as np"
   ]
  },
  {
   "cell_type": "code",
   "execution_count": 2,
   "id": "5f6d7383",
   "metadata": {},
   "outputs": [],
   "source": [
    "import pandas as pd"
   ]
  },
  {
   "cell_type": "code",
   "execution_count": 3,
   "id": "458c9cea",
   "metadata": {},
   "outputs": [],
   "source": [
    "import yfinance as yf"
   ]
  },
  {
   "cell_type": "code",
   "execution_count": null,
   "id": "cfa8d95c",
   "metadata": {},
   "outputs": [],
   "source": [
    "import pandas_datareader as pdr"
   ]
  },
  {
   "cell_type": "code",
   "execution_count": null,
   "id": "cdc212b8",
   "metadata": {},
   "outputs": [],
   "source": [
    "import matplotlib.pyplot as plt"
   ]
  },
  {
   "cell_type": "code",
   "execution_count": 4,
   "id": "65ca5c55",
   "metadata": {},
   "outputs": [],
   "source": [
    "from yahoofinancials import YahooFinancials"
   ]
  },
  {
   "cell_type": "code",
   "execution_count": null,
   "id": "f8ee56c7",
   "metadata": {},
   "outputs": [],
   "source": [
    "# Generate four random time series with lengths of 252 and 2520 (or more). \n",
    "lengths = [252, 2520]\n",
    "series_list = []\n",
    "\n",
    "for l in lengths:\n",
    "    series_list.append(np.random.rand(l))    \n"
   ]
  },
  {
   "cell_type": "code",
   "execution_count": null,
   "id": "61efeffa",
   "metadata": {},
   "outputs": [],
   "source": [
    "# mix them using some matrix A \n",
    "A = np.random.randn(4,4)\n",
    "mixed_series_list = np.matmul(A, series_list)"
   ]
  },
  {
   "cell_type": "code",
   "execution_count": null,
   "id": "197e8389",
   "metadata": {},
   "outputs": [],
   "source": [
    "# generate six correlated series\n",
    "correlated_series_list = np.corrcoef(mixed_series_list)"
   ]
  },
  {
   "cell_type": "code",
   "execution_count": null,
   "id": "35ff7bca",
   "metadata": {},
   "outputs": [],
   "source": [
    "# calculate correlation and covariant matrices for both mixed and independent set of series\n",
    "mixed_series_corr_matrix = np.corrcoef(mixed_series_list)\n",
    "mixed_series_cov_matrix = np.cov(mixed_series_list)\n",
    "series_corr_matrix = np.corrcoef(series_list)\n",
    "series_cov_matrix = np.cov(series_list)"
   ]
  },
  {
   "cell_type": "code",
   "execution_count": null,
   "id": "ef202552",
   "metadata": {},
   "outputs": [],
   "source": [
    "# Is it possible to recreate the original set of series from the mixed one\n",
    "\n",
    "# Create an inverse matrix of A \n",
    "A_inv = np.linalg.inv(A)"
   ]
  },
  {
   "cell_type": "code",
   "execution_count": null,
   "id": "8490c9cb",
   "metadata": {},
   "outputs": [],
   "source": [
    "# Calculate A^-1 * correlated_series_list\n",
    "original_series_list = np.matmul(A_inv,  correlated_series_list)"
   ]
  },
  {
   "cell_type": "code",
   "execution_count": null,
   "id": "0ff83c67",
   "metadata": {},
   "outputs": [],
   "source": [
    "# check if the original_series_list is equal to series_list\n",
    "np.array_equal(np.round(original_series_list,5), np.round(series_list,5))"
   ]
  },
  {
   "cell_type": "code",
   "execution_count": null,
   "id": "4ad150b9",
   "metadata": {},
   "outputs": [],
   "source": [
    "# Download/import or create your own (non-stock) pandas.DataFrame\n",
    "df = pd.read_csv(\"YourData.csv\")"
   ]
  },
  {
   "cell_type": "code",
   "execution_count": null,
   "id": "687d1414",
   "metadata": {},
   "outputs": [],
   "source": [
    "# create dataframe \n",
    "df = pd.DataFrame({'col1': [1, 2], 'col2': [3, 4]}) "
   ]
  },
  {
   "cell_type": "code",
   "execution_count": null,
   "id": "bd75a884",
   "metadata": {},
   "outputs": [],
   "source": [
    "df"
   ]
  },
  {
   "cell_type": "code",
   "execution_count": null,
   "id": "33087eb4",
   "metadata": {},
   "outputs": [],
   "source": [
    "# Perform some analysis and transformations\n",
    "# get column names\n",
    "col_names = df.columns.values"
   ]
  },
  {
   "cell_type": "code",
   "execution_count": null,
   "id": "6bb1486f",
   "metadata": {},
   "outputs": [],
   "source": [
    "df.describe()\n",
    "df['sum_column'] = df['col1'] + df['col2'] \n",
    "df"
   ]
  },
  {
   "cell_type": "code",
   "execution_count": null,
   "id": "9fffad68",
   "metadata": {},
   "outputs": [],
   "source": [
    "# get mean of each column\n",
    "means = df.mean()"
   ]
  },
  {
   "cell_type": "code",
   "execution_count": null,
   "id": "31635ad7",
   "metadata": {},
   "outputs": [],
   "source": [
    "# get median of each column\n",
    "medians = df.median()"
   ]
  },
  {
   "cell_type": "code",
   "execution_count": null,
   "id": "35529ba5",
   "metadata": {},
   "outputs": [],
   "source": [
    "# get standard deviation of each column\n",
    "stds = df.std()"
   ]
  },
  {
   "cell_type": "code",
   "execution_count": null,
   "id": "ab051338",
   "metadata": {},
   "outputs": [],
   "source": [
    "# check if there is any null values\n",
    "null_values = df.isnull().values.any()"
   ]
  },
  {
   "cell_type": "code",
   "execution_count": null,
   "id": "88185209",
   "metadata": {},
   "outputs": [],
   "source": [
    "# check the datatypes of each column\n",
    "data_types = df.dtypes"
   ]
  },
  {
   "cell_type": "code",
   "execution_count": null,
   "id": "8498056d",
   "metadata": {},
   "outputs": [],
   "source": [
    "# get the description of each column\n",
    "descriptions = df.describe()"
   ]
  },
  {
   "cell_type": "code",
   "execution_count": null,
   "id": "98ef3ea9",
   "metadata": {},
   "outputs": [],
   "source": [
    "# create new column\n",
    "df['total'] = df['column1'] + df['column2']"
   ]
  },
  {
   "cell_type": "code",
   "execution_count": null,
   "id": "6c430b4a",
   "metadata": {},
   "outputs": [],
   "source": [
    "# Download some stock data from Yahoo\n",
    "data = yf.download('MSFT', start=\"2020-01-01\", end=\"2020-12-31\")"
   ]
  },
  {
   "cell_type": "code",
   "execution_count": null,
   "id": "9469314b",
   "metadata": {},
   "outputs": [],
   "source": [
    "data"
   ]
  },
  {
   "cell_type": "code",
   "execution_count": null,
   "id": "f9fbad6c",
   "metadata": {},
   "outputs": [],
   "source": [
    "# Perform some fundamental statistical analysis using pandas\n",
    "# get column names\n",
    "col_names = data.columns.values"
   ]
  },
  {
   "cell_type": "code",
   "execution_count": null,
   "id": "6d83fb30",
   "metadata": {},
   "outputs": [],
   "source": [
    "# get mean of each column\n",
    "means = data.mean()"
   ]
  },
  {
   "cell_type": "code",
   "execution_count": null,
   "id": "dfbd55e4",
   "metadata": {},
   "outputs": [],
   "source": [
    "# get median of each column\n",
    "medians = data.median()"
   ]
  },
  {
   "cell_type": "code",
   "execution_count": null,
   "id": "e9954a66",
   "metadata": {},
   "outputs": [],
   "source": [
    "# get standard deviation of each column\n",
    "stds = data.std()"
   ]
  },
  {
   "cell_type": "code",
   "execution_count": null,
   "id": "e2b1e920",
   "metadata": {},
   "outputs": [],
   "source": [
    "# check if there is any null values\n",
    "null_values = data.isnull().values.any()"
   ]
  },
  {
   "cell_type": "code",
   "execution_count": null,
   "id": "30e79f3b",
   "metadata": {},
   "outputs": [],
   "source": [
    "# check the datatypes of each column\n",
    "data_types = data.dtypes"
   ]
  },
  {
   "cell_type": "code",
   "execution_count": null,
   "id": "b17203af",
   "metadata": {},
   "outputs": [],
   "source": [
    "# get the description of each column\n",
    "descriptions = data.describe()"
   ]
  },
  {
   "cell_type": "code",
   "execution_count": null,
   "id": "cb3412f9",
   "metadata": {},
   "outputs": [],
   "source": [
    "# Try to find some positive and negative correlations\n",
    "corr = data.corr()\n",
    "\n",
    "# plot the correlation\n",
    "corr.style.background_gradient(cmap='coolwarm').set_precision(2)"
   ]
  },
  {
   "cell_type": "code",
   "execution_count": null,
   "id": "595d7746",
   "metadata": {},
   "outputs": [],
   "source": [
    "# Implement the statistical mechanics of money\n",
    "# Define the variables\n",
    "population_size = 1000 \n",
    "agents = np.random.randint(low=1, high=100, size=(population_size)) "
   ]
  },
  {
   "cell_type": "code",
   "execution_count": null,
   "id": "fd019592",
   "metadata": {},
   "outputs": [],
   "source": [
    "# calculate wealth distribution \n",
    "wealth_distribution = np.sort(agents) \n",
    "\n",
    "# plot the wealth distribution \n",
    "plt.plot(wealth_distribution) \n",
    "plt.title('Wealth Distribution Over Time') \n",
    "plt.xlabel('Agents') \n",
    "plt.ylabel('Wealth')"
   ]
  },
  {
   "cell_type": "code",
   "execution_count": null,
   "id": "2c201787",
   "metadata": {},
   "outputs": [],
   "source": [
    "# define parameters\n",
    "predator_population = 100 \n",
    "prey_population = 1000"
   ]
  },
  {
   "cell_type": "code",
   "execution_count": null,
   "id": "064aab6e",
   "metadata": {},
   "outputs": [],
   "source": [
    "# create a plot\n",
    "plt.scatter(predator_population, prey_population)\n",
    "plt.title('2D Predator-Prey Model')\n",
    "plt.xlabel('Predator Population')\n",
    "plt.ylabel('Prey Population')"
   ]
  },
  {
   "cell_type": "code",
   "execution_count": null,
   "id": "ee906673",
   "metadata": {},
   "outputs": [],
   "source": [
    "# initialize populations\n",
    "predator_list = np.random.randint(low = 1, high = 1000, size = (predator_population))\n",
    "prey_list = np.random.randint(low = 1, high = 500, size = (prey_population))"
   ]
  },
  {
   "cell_type": "code",
   "execution_count": null,
   "id": "c16eeadf",
   "metadata": {},
   "outputs": [],
   "source": [
    "# implement the 2D predator-prey model\n",
    "while prey_population > 0:\n",
    "  for i in range(predator_population):\n",
    "    prey_list -= predator_list[i]\n",
    "  for j in range(prey_population):\n",
    "    predator_list += prey_list[j]"
   ]
  },
  {
   "cell_type": "code",
   "execution_count": null,
   "id": "8f7bfd28",
   "metadata": {},
   "outputs": [],
   "source": [
    "# plot the new populations\n",
    "plt.scatter(predator_population, prey_population)\n",
    "plt.title('2D Predator-Prey Model')\n",
    "plt.xlabel('Predator Population')\n",
    "plt.ylabel('Prey Population')"
   ]
  },
  {
   "cell_type": "code",
   "execution_count": null,
   "id": "215f2b97",
   "metadata": {},
   "outputs": [],
   "source": []
  }
 ],
 "metadata": {
  "kernelspec": {
   "display_name": "Python 3 (ipykernel)",
   "language": "python",
   "name": "python3"
  },
  "language_info": {
   "codemirror_mode": {
    "name": "ipython",
    "version": 3
   },
   "file_extension": ".py",
   "mimetype": "text/x-python",
   "name": "python",
   "nbconvert_exporter": "python",
   "pygments_lexer": "ipython3",
   "version": "3.9.13"
  }
 },
 "nbformat": 4,
 "nbformat_minor": 5
}
