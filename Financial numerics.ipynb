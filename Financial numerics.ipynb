{
 "cells": [
  {
   "cell_type": "code",
   "execution_count": 1,
   "id": "51b44b14",
   "metadata": {},
   "outputs": [],
   "source": [
    "import numpy as np"
   ]
  },
  {
   "cell_type": "code",
   "execution_count": 2,
   "id": "b4465542",
   "metadata": {},
   "outputs": [],
   "source": [
    "import pandas as pd"
   ]
  },
  {
   "cell_type": "code",
   "execution_count": 3,
   "id": "022e18fd",
   "metadata": {},
   "outputs": [],
   "source": [
    "import yfinance as yf"
   ]
  },
  {
   "cell_type": "code",
   "execution_count": null,
   "id": "1f70407c",
   "metadata": {},
   "outputs": [],
   "source": [
    "import pandas_datareader as pdr"
   ]
  },
  {
   "cell_type": "code",
   "execution_count": null,
   "id": "b37163be",
   "metadata": {},
   "outputs": [],
   "source": [
    "import matplotlib.pyplot as plt"
   ]
  },
  {
   "cell_type": "code",
   "execution_count": 4,
   "id": "5aae2ebd",
   "metadata": {},
   "outputs": [],
   "source": [
    "from yahoofinancials import YahooFinancials"
   ]
  },
  {
   "cell_type": "code",
   "execution_count": null,
   "id": "878fb8a0",
   "metadata": {},
   "outputs": [],
   "source": [
    "# Generate four random time series with lengths of 252 and 2520 (or more). \n",
    "lengths = [252, 2520]\n",
    "series_list = []\n",
    "\n",
    "for l in lengths:\n",
    "    series_list.append(np.random.rand(l))    \n"
   ]
  },
  {
   "cell_type": "code",
   "execution_count": null,
   "id": "aa93a93f",
   "metadata": {},
   "outputs": [],
   "source": [
    "# mix them using some matrix A \n",
    "A = np.random.randn(4,4)\n",
    "mixed_series_list = np.matmul(A, series_list)"
   ]
  },
  {
   "cell_type": "code",
   "execution_count": null,
   "id": "bac100d8",
   "metadata": {},
   "outputs": [],
   "source": [
    "# generate six correlated series\n",
    "correlated_series_list = np.corrcoef(mixed_series_list)"
   ]
  },
  {
   "cell_type": "code",
   "execution_count": null,
   "id": "4b9ecc5c",
   "metadata": {},
   "outputs": [],
   "source": [
    "# calculate correlation and covariant matrices for both mixed and independent set of series\n",
    "mixed_series_corr_matrix = np.corrcoef(mixed_series_list)\n",
    "mixed_series_cov_matrix = np.cov(mixed_series_list)\n",
    "series_corr_matrix = np.corrcoef(series_list)\n",
    "series_cov_matrix = np.cov(series_list)"
   ]
  },
  {
   "cell_type": "code",
   "execution_count": null,
   "id": "b096cf2c",
   "metadata": {},
   "outputs": [],
   "source": [
    "# Is it possible to recreate the original set of series from the mixed one\n",
    "\n",
    "# Create an inverse matrix of A \n",
    "A_inv = np.linalg.inv(A)"
   ]
  },
  {
   "cell_type": "code",
   "execution_count": null,
   "id": "e9303bda",
   "metadata": {},
   "outputs": [],
   "source": [
    "# Calculate A^-1 * correlated_series_list\n",
    "original_series_list = np.matmul(A_inv,  correlated_series_list)"
   ]
  },
  {
   "cell_type": "code",
   "execution_count": null,
   "id": "e1f21448",
   "metadata": {},
   "outputs": [],
   "source": [
    "# check if the original_series_list is equal to series_list\n",
    "np.array_equal(np.round(original_series_list,5), np.round(series_list,5))"
   ]
  },
  {
   "cell_type": "code",
   "execution_count": null,
   "id": "d70e9c6a",
   "metadata": {},
   "outputs": [],
   "source": [
    "# Download/import or create your own (non-stock) pandas.DataFrame\n",
    "df = pd.read_csv(\"YourData.csv\")"
   ]
  },
  {
   "cell_type": "code",
   "execution_count": null,
   "id": "b8b9a705",
   "metadata": {},
   "outputs": [],
   "source": [
    "# create dataframe \n",
    "df = pd.DataFrame({'col1': [1, 2], 'col2': [3, 4]}) "
   ]
  },
  {
   "cell_type": "code",
   "execution_count": null,
   "id": "207ea6b4",
   "metadata": {},
   "outputs": [],
   "source": [
    "df"
   ]
  },
  {
   "cell_type": "code",
   "execution_count": null,
   "id": "ed96428a",
   "metadata": {},
   "outputs": [],
   "source": [
    "# Perform some analysis and transformations\n",
    "# get column names\n",
    "col_names = df.columns.values"
   ]
  },
  {
   "cell_type": "code",
   "execution_count": null,
   "id": "d7fcd383",
   "metadata": {},
   "outputs": [],
   "source": [
    "df.describe()\n",
    "df['sum_column'] = df['col1'] + df['col2'] \n",
    "df"
   ]
  },
  {
   "cell_type": "code",
   "execution_count": null,
   "id": "f75de8af",
   "metadata": {},
   "outputs": [],
   "source": [
    "# get mean of each column\n",
    "means = df.mean()"
   ]
  },
  {
   "cell_type": "code",
   "execution_count": null,
   "id": "ae2cdb5f",
   "metadata": {},
   "outputs": [],
   "source": []
  }
 ],
 "metadata": {
  "kernelspec": {
   "display_name": "Python 3 (ipykernel)",
   "language": "python",
   "name": "python3"
  },
  "language_info": {
   "codemirror_mode": {
    "name": "ipython",
    "version": 3
   },
   "file_extension": ".py",
   "mimetype": "text/x-python",
   "name": "python",
   "nbconvert_exporter": "python",
   "pygments_lexer": "ipython3",
   "version": "3.9.13"
  }
 },
 "nbformat": 4,
 "nbformat_minor": 5
}
